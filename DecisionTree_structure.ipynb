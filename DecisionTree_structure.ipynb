{
 "cells": [
  {
   "cell_type": "markdown",
   "id": "24650068",
   "metadata": {},
   "source": [
    "# 決定木の構造の調査\n",
    "\n",
    "scikit-learn の決定木ベースの評価器である\n",
    "\n",
    "- DecisionTreeClassifier\n",
    "- DecisionTreeRegressor\n",
    "- RandomForestClassifier\n",
    "- RandomForestRegressor\n",
    "- GradientBoostingClassifier\n",
    "- GradientBoostingRegressor\n",
    "\n",
    "のツリー構造について調査する。"
   ]
  },
  {
   "cell_type": "code",
   "execution_count": null,
   "id": "92c3da2a",
   "metadata": {},
   "outputs": [],
   "source": []
  }
 ],
 "metadata": {
  "kernelspec": {
   "display_name": "Python 3 (ipykernel)",
   "language": "python",
   "name": "python3"
  },
  "language_info": {
   "codemirror_mode": {
    "name": "ipython",
    "version": 3
   },
   "file_extension": ".py",
   "mimetype": "text/x-python",
   "name": "python",
   "nbconvert_exporter": "python",
   "pygments_lexer": "ipython3",
   "version": "3.9.12"
  }
 },
 "nbformat": 4,
 "nbformat_minor": 5
}
